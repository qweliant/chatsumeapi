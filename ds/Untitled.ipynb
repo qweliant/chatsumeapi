{
 "cells": [
  {
   "cell_type": "code",
   "execution_count": 11,
   "metadata": {},
   "outputs": [],
   "source": [
    "from transformers import (\n",
    "    pipeline,\n",
    "    GPT2LMHeadModel,\n",
    "    GPT2Tokenizer\n",
    ")\n",
    "\n",
    "class NLP:\n",
    "    def __init__(self):\n",
    "        self.gen_model = GPT2LMHeadModel.from_pretrained('./app/models/transformers/gen_model')\n",
    "        self.gen_tokenizer = GPT2Tokenizer.from_pretrained('./app/models/transformers/gen_tokenizer') \n",
    "         \n",
    "    def generate(self, prompt=\"The epistemelogical limit\"):\n",
    "        \n",
    "        inputs = self.gen_tokenizer.encode( prompt, add_special_tokens=False, return_tensors=\"pt\")\n",
    "        prompt_length = len(self.gen_tokenizer.decode(inputs[0], skip_special_tokens=True, clean_up_tokenization_spaces=True))\n",
    "        outputs = self.gen_model.generate(inputs, max_length=200, do_sample=True, top_p=0.95, top_k=60)\n",
    "        generated = prompt + self.gen_tokenizer.decode(outputs[0])[prompt_length:]\n",
    "        return generated\n",
    "\n",
    "    def sentiments(self, text: str):\n",
    "        nlp = pipeline(\"sentiment-analysis\")\n",
    "        result = nlp(text)[0]\n",
    "        return f\"label: {result['label']}, with score: {round(result['score'], 4)}\""
   ]
  },
  {
   "cell_type": "code",
   "execution_count": 12,
   "metadata": {},
   "outputs": [],
   "source": [
    "nl = NLP()"
   ]
  },
  {
   "cell_type": "code",
   "execution_count": 13,
   "metadata": {},
   "outputs": [
    {
     "name": "stderr",
     "output_type": "stream",
     "text": [
      "Setting `pad_token_id` to 50256 (first `eos_token_id`) to generate sequence\n"
     ]
    },
    {
     "data": {
      "text/plain": [
       "'The epistemelogical limit is very well understood if we accept the notion that all things are equally good. This is not merely an axiom, but an axiomatical reality of propositions, including the notion that the things on the left of the triangle do not constitute a thing, such that that thing can neither be said to exist nor to exist as a thing apart from something on the right of that triangle, nor to be a thing apart from something else on the left of that triangle. Thus if we suppose that each thing must lie on the line of a triangle, as there is a line across this triangle, then each thing cannot lie on that line; but only as there are points beyond this point, so that nothing has a right angle to the triangle. Hence the proposition \"the things on the right of a triangle do not constitute a thing\" is a fact, which presupposes a fact, which can be the proposition that no thing exists. On the other hand, suppose that if'"
      ]
     },
     "execution_count": 13,
     "metadata": {},
     "output_type": "execute_result"
    }
   ],
   "source": [
    "nl.generate()"
   ]
  },
  {
   "cell_type": "code",
   "execution_count": 16,
   "metadata": {},
   "outputs": [
    {
     "data": {
      "text/plain": [
       "'label: NEGATIVE, with score: 0.9998'"
      ]
     },
     "execution_count": 16,
     "metadata": {},
     "output_type": "execute_result"
    }
   ],
   "source": [
    "nl.sentiments(\"A bee sting is not cool\")"
   ]
  }
 ],
 "metadata": {
  "kernelspec": {
   "display_name": "Python 3",
   "language": "python",
   "name": "python3"
  },
  "language_info": {
   "codemirror_mode": {
    "name": "ipython",
    "version": 3
   },
   "file_extension": ".py",
   "mimetype": "text/x-python",
   "name": "python",
   "nbconvert_exporter": "python",
   "pygments_lexer": "ipython3",
   "version": "3.7.8"
  }
 },
 "nbformat": 4,
 "nbformat_minor": 4
}
